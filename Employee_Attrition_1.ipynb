{
 "cells": [
  {
   "cell_type": "markdown",
   "metadata": {},
   "source": [
    "# Case Study: Employee Attrition Method - 1"
   ]
  },
  {
   "cell_type": "code",
   "execution_count": 1,
   "metadata": {},
   "outputs": [],
   "source": [
    "import pandas as pd\n",
    "import numpy as np\n",
    "import matplotlib.pyplot as plt\n",
    "import seaborn as sns\n",
    "%matplotlib inline\n",
    "import warnings\n",
    "warnings.filterwarnings('ignore')\n",
    "import statsmodels.api as sm\n",
    "from sklearn import metrics"
   ]
  },
  {
   "cell_type": "code",
   "execution_count": 2,
   "metadata": {},
   "outputs": [],
   "source": [
    "df_employee_detail = pd.read_excel('WA_Fn-UseC_-HR-Employee-Attrition.xlsx')"
   ]
  },
  {
   "cell_type": "code",
   "execution_count": 3,
   "metadata": {
    "scrolled": true
   },
   "outputs": [
    {
     "name": "stdout",
     "output_type": "stream",
     "text": [
      "<class 'pandas.core.frame.DataFrame'>\n",
      "RangeIndex: 1470 entries, 0 to 1469\n",
      "Data columns (total 35 columns):\n",
      "Age                         1470 non-null int64\n",
      "Attrition                   1470 non-null object\n",
      "BusinessTravel              1470 non-null object\n",
      "DailyRate                   1470 non-null int64\n",
      "Department                  1470 non-null object\n",
      "DistanceFromHome            1470 non-null int64\n",
      "Education                   1470 non-null int64\n",
      "EducationField              1470 non-null object\n",
      "EmployeeCount               1470 non-null int64\n",
      "EmployeeNumber              1470 non-null int64\n",
      "EnvironmentSatisfaction     1470 non-null int64\n",
      "Gender                      1470 non-null object\n",
      "HourlyRate                  1470 non-null int64\n",
      "JobInvolvement              1470 non-null int64\n",
      "JobLevel                    1470 non-null int64\n",
      "JobRole                     1470 non-null object\n",
      "JobSatisfaction             1470 non-null int64\n",
      "MaritalStatus               1470 non-null object\n",
      "MonthlyIncome               1470 non-null int64\n",
      "MonthlyRate                 1470 non-null int64\n",
      "NumCompaniesWorked          1470 non-null int64\n",
      "Over18                      1470 non-null object\n",
      "OverTime                    1470 non-null object\n",
      "PercentSalaryHike           1470 non-null int64\n",
      "PerformanceRating           1470 non-null int64\n",
      "RelationshipSatisfaction    1470 non-null int64\n",
      "StandardHours               1470 non-null int64\n",
      "StockOptionLevel            1470 non-null int64\n",
      "TotalWorkingYears           1470 non-null int64\n",
      "TrainingTimesLastYear       1470 non-null int64\n",
      "WorkLifeBalance             1470 non-null int64\n",
      "YearsAtCompany              1470 non-null int64\n",
      "YearsInCurrentRole          1470 non-null int64\n",
      "YearsSinceLastPromotion     1470 non-null int64\n",
      "YearsWithCurrManager        1470 non-null int64\n",
      "dtypes: int64(26), object(9)\n",
      "memory usage: 402.0+ KB\n"
     ]
    }
   ],
   "source": [
    "df_employee_detail.info()"
   ]
  },
  {
   "cell_type": "code",
   "execution_count": 4,
   "metadata": {},
   "outputs": [
    {
     "data": {
      "text/html": [
       "<div>\n",
       "<style scoped>\n",
       "    .dataframe tbody tr th:only-of-type {\n",
       "        vertical-align: middle;\n",
       "    }\n",
       "\n",
       "    .dataframe tbody tr th {\n",
       "        vertical-align: top;\n",
       "    }\n",
       "\n",
       "    .dataframe thead th {\n",
       "        text-align: right;\n",
       "    }\n",
       "</style>\n",
       "<table border=\"1\" class=\"dataframe\">\n",
       "  <thead>\n",
       "    <tr style=\"text-align: right;\">\n",
       "      <th></th>\n",
       "      <th>Age</th>\n",
       "      <th>Attrition</th>\n",
       "      <th>BusinessTravel</th>\n",
       "      <th>DailyRate</th>\n",
       "      <th>Department</th>\n",
       "      <th>DistanceFromHome</th>\n",
       "      <th>Education</th>\n",
       "      <th>EducationField</th>\n",
       "      <th>EmployeeCount</th>\n",
       "      <th>EmployeeNumber</th>\n",
       "      <th>...</th>\n",
       "      <th>RelationshipSatisfaction</th>\n",
       "      <th>StandardHours</th>\n",
       "      <th>StockOptionLevel</th>\n",
       "      <th>TotalWorkingYears</th>\n",
       "      <th>TrainingTimesLastYear</th>\n",
       "      <th>WorkLifeBalance</th>\n",
       "      <th>YearsAtCompany</th>\n",
       "      <th>YearsInCurrentRole</th>\n",
       "      <th>YearsSinceLastPromotion</th>\n",
       "      <th>YearsWithCurrManager</th>\n",
       "    </tr>\n",
       "  </thead>\n",
       "  <tbody>\n",
       "    <tr>\n",
       "      <th>0</th>\n",
       "      <td>41</td>\n",
       "      <td>Yes</td>\n",
       "      <td>Travel_Rarely</td>\n",
       "      <td>1102</td>\n",
       "      <td>Sales</td>\n",
       "      <td>1</td>\n",
       "      <td>2</td>\n",
       "      <td>Life Sciences</td>\n",
       "      <td>1</td>\n",
       "      <td>1</td>\n",
       "      <td>...</td>\n",
       "      <td>1</td>\n",
       "      <td>80</td>\n",
       "      <td>0</td>\n",
       "      <td>8</td>\n",
       "      <td>0</td>\n",
       "      <td>1</td>\n",
       "      <td>6</td>\n",
       "      <td>4</td>\n",
       "      <td>0</td>\n",
       "      <td>5</td>\n",
       "    </tr>\n",
       "    <tr>\n",
       "      <th>1</th>\n",
       "      <td>49</td>\n",
       "      <td>No</td>\n",
       "      <td>Travel_Frequently</td>\n",
       "      <td>279</td>\n",
       "      <td>Research &amp; Development</td>\n",
       "      <td>8</td>\n",
       "      <td>1</td>\n",
       "      <td>Life Sciences</td>\n",
       "      <td>1</td>\n",
       "      <td>2</td>\n",
       "      <td>...</td>\n",
       "      <td>4</td>\n",
       "      <td>80</td>\n",
       "      <td>1</td>\n",
       "      <td>10</td>\n",
       "      <td>3</td>\n",
       "      <td>3</td>\n",
       "      <td>10</td>\n",
       "      <td>7</td>\n",
       "      <td>1</td>\n",
       "      <td>7</td>\n",
       "    </tr>\n",
       "    <tr>\n",
       "      <th>2</th>\n",
       "      <td>37</td>\n",
       "      <td>Yes</td>\n",
       "      <td>Travel_Rarely</td>\n",
       "      <td>1373</td>\n",
       "      <td>Research &amp; Development</td>\n",
       "      <td>2</td>\n",
       "      <td>2</td>\n",
       "      <td>Other</td>\n",
       "      <td>1</td>\n",
       "      <td>4</td>\n",
       "      <td>...</td>\n",
       "      <td>2</td>\n",
       "      <td>80</td>\n",
       "      <td>0</td>\n",
       "      <td>7</td>\n",
       "      <td>3</td>\n",
       "      <td>3</td>\n",
       "      <td>0</td>\n",
       "      <td>0</td>\n",
       "      <td>0</td>\n",
       "      <td>0</td>\n",
       "    </tr>\n",
       "    <tr>\n",
       "      <th>3</th>\n",
       "      <td>33</td>\n",
       "      <td>No</td>\n",
       "      <td>Travel_Frequently</td>\n",
       "      <td>1392</td>\n",
       "      <td>Research &amp; Development</td>\n",
       "      <td>3</td>\n",
       "      <td>4</td>\n",
       "      <td>Life Sciences</td>\n",
       "      <td>1</td>\n",
       "      <td>5</td>\n",
       "      <td>...</td>\n",
       "      <td>3</td>\n",
       "      <td>80</td>\n",
       "      <td>0</td>\n",
       "      <td>8</td>\n",
       "      <td>3</td>\n",
       "      <td>3</td>\n",
       "      <td>8</td>\n",
       "      <td>7</td>\n",
       "      <td>3</td>\n",
       "      <td>0</td>\n",
       "    </tr>\n",
       "    <tr>\n",
       "      <th>4</th>\n",
       "      <td>27</td>\n",
       "      <td>No</td>\n",
       "      <td>Travel_Rarely</td>\n",
       "      <td>591</td>\n",
       "      <td>Research &amp; Development</td>\n",
       "      <td>2</td>\n",
       "      <td>1</td>\n",
       "      <td>Medical</td>\n",
       "      <td>1</td>\n",
       "      <td>7</td>\n",
       "      <td>...</td>\n",
       "      <td>4</td>\n",
       "      <td>80</td>\n",
       "      <td>1</td>\n",
       "      <td>6</td>\n",
       "      <td>3</td>\n",
       "      <td>3</td>\n",
       "      <td>2</td>\n",
       "      <td>2</td>\n",
       "      <td>2</td>\n",
       "      <td>2</td>\n",
       "    </tr>\n",
       "  </tbody>\n",
       "</table>\n",
       "<p>5 rows × 35 columns</p>\n",
       "</div>"
      ],
      "text/plain": [
       "   Age Attrition     BusinessTravel  DailyRate              Department  \\\n",
       "0   41       Yes      Travel_Rarely       1102                   Sales   \n",
       "1   49        No  Travel_Frequently        279  Research & Development   \n",
       "2   37       Yes      Travel_Rarely       1373  Research & Development   \n",
       "3   33        No  Travel_Frequently       1392  Research & Development   \n",
       "4   27        No      Travel_Rarely        591  Research & Development   \n",
       "\n",
       "   DistanceFromHome  Education EducationField  EmployeeCount  EmployeeNumber  \\\n",
       "0                 1          2  Life Sciences              1               1   \n",
       "1                 8          1  Life Sciences              1               2   \n",
       "2                 2          2          Other              1               4   \n",
       "3                 3          4  Life Sciences              1               5   \n",
       "4                 2          1        Medical              1               7   \n",
       "\n",
       "           ...           RelationshipSatisfaction StandardHours  \\\n",
       "0          ...                                  1            80   \n",
       "1          ...                                  4            80   \n",
       "2          ...                                  2            80   \n",
       "3          ...                                  3            80   \n",
       "4          ...                                  4            80   \n",
       "\n",
       "   StockOptionLevel  TotalWorkingYears  TrainingTimesLastYear WorkLifeBalance  \\\n",
       "0                 0                  8                      0               1   \n",
       "1                 1                 10                      3               3   \n",
       "2                 0                  7                      3               3   \n",
       "3                 0                  8                      3               3   \n",
       "4                 1                  6                      3               3   \n",
       "\n",
       "   YearsAtCompany YearsInCurrentRole  YearsSinceLastPromotion  \\\n",
       "0               6                  4                        0   \n",
       "1              10                  7                        1   \n",
       "2               0                  0                        0   \n",
       "3               8                  7                        3   \n",
       "4               2                  2                        2   \n",
       "\n",
       "   YearsWithCurrManager  \n",
       "0                     5  \n",
       "1                     7  \n",
       "2                     0  \n",
       "3                     0  \n",
       "4                     2  \n",
       "\n",
       "[5 rows x 35 columns]"
      ]
     },
     "execution_count": 4,
     "metadata": {},
     "output_type": "execute_result"
    }
   ],
   "source": [
    "df_employee_detail.head()"
   ]
  },
  {
   "cell_type": "code",
   "execution_count": 5,
   "metadata": {},
   "outputs": [],
   "source": [
    "sns.set_palette('Set1')"
   ]
  },
  {
   "cell_type": "code",
   "execution_count": 6,
   "metadata": {},
   "outputs": [
    {
     "data": {
      "text/plain": [
       "<matplotlib.axes._subplots.AxesSubplot at 0xba6273b240>"
      ]
     },
     "execution_count": 6,
     "metadata": {},
     "output_type": "execute_result"
    },
    {
     "data": {
      "image/png": "[encoded data removed]",
      "text/plain": [
       "<Figure size 432x288 with 1 Axes>"
      ]
     },
     "metadata": {
      "needs_background": "light"
     },
     "output_type": "display_data"
    }
   ],
   "source": [
    "sns.countplot(df_employee_detail['Attrition'])"
   ]
  },
  {
   "cell_type": "code",
   "execution_count": 7,
   "metadata": {},
   "outputs": [
    {
     "data": {
      "text/plain": [
       "<matplotlib.axes._subplots.AxesSubplot at 0xba62801fd0>"
      ]
     },
     "execution_count": 7,
     "metadata": {},
     "output_type": "execute_result"
    },
    {
     "data": {
      "image/png": "[encoded data removed]",
      "text/plain": [
       "<Figure size 720x576 with 1 Axes>"
      ]
     },
     "metadata": {
      "needs_background": "light"
     },
     "output_type": "display_data"
    }
   ],
   "source": [
    "plt.figure(figsize=(10,8))\n",
    "sns.countplot(hue='Attrition',x='Age',data=df_employee_detail)"
   ]
  },
  {
   "cell_type": "code",
   "execution_count": 8,
   "metadata": {},
   "outputs": [
    {
     "data": {
      "text/plain": [
       "<matplotlib.axes._subplots.AxesSubplot at 0xba6252b780>"
      ]
     },
     "execution_count": 8,
     "metadata": {},
     "output_type": "execute_result"
    },
    {
     "data": {
      "image/png": "[encoded data removed]",
      "text/plain": [
       "<Figure size 432x288 with 1 Axes>"
      ]
     },
     "metadata": {
      "needs_background": "light"
     },
     "output_type": "display_data"
    }
   ],
   "source": [
    "plt.figure(figsize=(6,4))\n",
    "sns.countplot(x='Gender',hue='Attrition',data=df_employee_detail)"
   ]
  },
  {
   "cell_type": "code",
   "execution_count": 9,
   "metadata": {
    "scrolled": false
   },
   "outputs": [
    {
     "data": {
      "image/png": "[encoded data removed]",
      "text/plain": [
       "<Figure size 576x432 with 1 Axes>"
      ]
     },
     "metadata": {
      "needs_background": "light"
     },
     "output_type": "display_data"
    }
   ],
   "source": [
    "plt.figure(figsize=(8,6))\n",
    "sns.lineplot(y=df_employee_detail['YearsAtCompany'],\n",
    "             x=df_employee_detail['YearsSinceLastPromotion'],\n",
    "             hue=df_employee_detail['Attrition'],);"
   ]
  },
  {
   "cell_type": "code",
   "execution_count": 10,
   "metadata": {},
   "outputs": [],
   "source": [
    "X_features = ['Age','DailyRate','DistanceFromHome','HourlyRate', 'MonthlyIncome',\n",
    "                'MonthlyRate','PercentSalaryHike', 'TotalWorkingYears','TrainingTimesLastYear',\n",
    "                'YearsAtCompany', 'YearsInCurrentRole','YearsSinceLastPromotion','YearsWithCurrManager',\n",
    "                'BusinessTravel','Department','Education','EducationField','EnvironmentSatisfaction','Gender',\n",
    "                'JobInvolvement','JobLevel','JobRole','JobSatisfaction','MaritalStatus','NumCompaniesWorked',\n",
    "                'OverTime','PerformanceRating','RelationshipSatisfaction','StockOptionLevel','WorkLifeBalance'\n",
    "              ]"
   ]
  },
  {
   "cell_type": "code",
   "execution_count": 11,
   "metadata": {},
   "outputs": [],
   "source": [
    "categorical_features = ['BusinessTravel','Department','Education','EducationField','EnvironmentSatisfaction','Gender',\n",
    "                'JobInvolvement','JobLevel','JobRole','JobSatisfaction','MaritalStatus','NumCompaniesWorked',\n",
    "                'OverTime','PerformanceRating','RelationshipSatisfaction','StockOptionLevel','WorkLifeBalance']"
   ]
  },
  {
   "cell_type": "code",
   "execution_count": 12,
   "metadata": {},
   "outputs": [],
   "source": [
    "employee_encoded_df = pd.get_dummies(data=df_employee_detail[X_features],\n",
    "                                     columns=categorical_features,\n",
    "                                     drop_first=True)"
   ]
  },
  {
   "cell_type": "code",
   "execution_count": 13,
   "metadata": {},
   "outputs": [
    {
     "data": {
      "text/plain": [
       "Index(['Age', 'DailyRate', 'DistanceFromHome', 'HourlyRate', 'MonthlyIncome',\n",
       "       'MonthlyRate', 'PercentSalaryHike', 'TotalWorkingYears',\n",
       "       'TrainingTimesLastYear', 'YearsAtCompany', 'YearsInCurrentRole',\n",
       "       'YearsSinceLastPromotion', 'YearsWithCurrManager',\n",
       "       'BusinessTravel_Travel_Frequently', 'BusinessTravel_Travel_Rarely',\n",
       "       'Department_Research & Development', 'Department_Sales', 'Education_2',\n",
       "       'Education_3', 'Education_4', 'Education_5',\n",
       "       'EducationField_Life Sciences', 'EducationField_Marketing',\n",
       "       'EducationField_Medical', 'EducationField_Other',\n",
       "       'EducationField_Technical Degree', 'EnvironmentSatisfaction_2',\n",
       "       'EnvironmentSatisfaction_3', 'EnvironmentSatisfaction_4', 'Gender_Male',\n",
       "       'JobInvolvement_2', 'JobInvolvement_3', 'JobInvolvement_4',\n",
       "       'JobLevel_2', 'JobLevel_3', 'JobLevel_4', 'JobLevel_5',\n",
       "       'JobRole_Human Resources', 'JobRole_Laboratory Technician',\n",
       "       'JobRole_Manager', 'JobRole_Manufacturing Director',\n",
       "       'JobRole_Research Director', 'JobRole_Research Scientist',\n",
       "       'JobRole_Sales Executive', 'JobRole_Sales Representative',\n",
       "       'JobSatisfaction_2', 'JobSatisfaction_3', 'JobSatisfaction_4',\n",
       "       'MaritalStatus_Married', 'MaritalStatus_Single', 'NumCompaniesWorked_1',\n",
       "       'NumCompaniesWorked_2', 'NumCompaniesWorked_3', 'NumCompaniesWorked_4',\n",
       "       'NumCompaniesWorked_5', 'NumCompaniesWorked_6', 'NumCompaniesWorked_7',\n",
       "       'NumCompaniesWorked_8', 'NumCompaniesWorked_9', 'OverTime_Yes',\n",
       "       'PerformanceRating_4', 'RelationshipSatisfaction_2',\n",
       "       'RelationshipSatisfaction_3', 'RelationshipSatisfaction_4',\n",
       "       'StockOptionLevel_1', 'StockOptionLevel_2', 'StockOptionLevel_3',\n",
       "       'WorkLifeBalance_2', 'WorkLifeBalance_3', 'WorkLifeBalance_4'],\n",
       "      dtype='object')"
      ]
     },
     "execution_count": 13,
     "metadata": {},
     "output_type": "execute_result"
    }
   ],
   "source": [
    "employee_encoded_df.columns"
   ]
  },
  {
   "cell_type": "markdown",
   "metadata": {},
   "source": [
    "## Enconding 1 as Attrition Status Yes and 0 as No"
   ]
  },
  {
   "cell_type": "code",
   "execution_count": 14,
   "metadata": {},
   "outputs": [],
   "source": [
    "Y = df_employee_detail.Attrition.map(lambda x: int(x=='Yes'))"
   ]
  },
  {
   "cell_type": "code",
   "execution_count": 15,
   "metadata": {},
   "outputs": [],
   "source": [
    "X = sm.add_constant(employee_encoded_df)"
   ]
  },
  {
   "cell_type": "markdown",
   "metadata": {},
   "source": [
    "## Splitting the dataset into train and test set"
   ]
  },
  {
   "cell_type": "code",
   "execution_count": 16,
   "metadata": {},
   "outputs": [],
   "source": [
    "from sklearn.model_selection import train_test_split"
   ]
  },
  {
   "cell_type": "code",
   "execution_count": 17,
   "metadata": {},
   "outputs": [],
   "source": [
    "x_train,x_test,y_train,y_test = train_test_split(X,Y,test_size = 0.3,random_state = 42)"
   ]
  },
  {
   "cell_type": "markdown",
   "metadata": {},
   "source": [
    "## Applying Logistic Regression"
   ]
  },
  {
   "cell_type": "code",
   "execution_count": 18,
   "metadata": {},
   "outputs": [
    {
     "name": "stdout",
     "output_type": "stream",
     "text": [
      "Warning: Maximum number of iterations has been exceeded.\n",
      "         Current function value: 0.252390\n",
      "         Iterations: 35\n"
     ]
    }
   ],
   "source": [
    "logit_initial = sm.Logit(y_train,x_train).fit()"
   ]
  },
  {
   "cell_type": "code",
   "execution_count": 19,
   "metadata": {},
   "outputs": [
    {
     "data": {
      "text/html": [
       "<table class=\"simpletable\">\n",
       "<tr>\n",
       "        <td>Model:</td>              <td>Logit</td>      <td>Pseudo R-squared:</td>    <td>0.448</td>  \n",
       "</tr>\n",
       "<tr>\n",
       "  <td>Dependent Variable:</td>     <td>Attrition</td>          <td>AIC:</td>         <td>661.4190</td> \n",
       "</tr>\n",
       "<tr>\n",
       "         <td>Date:</td>        <td>2019-11-04 22:35</td>       <td>BIC:</td>         <td>1011.8993</td>\n",
       "</tr>\n",
       "<tr>\n",
       "   <td>No. Observations:</td>        <td>1029</td>        <td>Log-Likelihood:</td>    <td>-259.71</td> \n",
       "</tr>\n",
       "<tr>\n",
       "       <td>Df Model:</td>             <td>70</td>            <td>LL-Null:</td>        <td>-470.80</td> \n",
       "</tr>\n",
       "<tr>\n",
       "     <td>Df Residuals:</td>           <td>958</td>         <td>LLR p-value:</td>    <td>9.1681e-52</td>\n",
       "</tr>\n",
       "<tr>\n",
       "      <td>Converged:</td>           <td>0.0000</td>           <td>Scale:</td>         <td>1.0000</td>  \n",
       "</tr>\n",
       "<tr>\n",
       "    <td>No. Iterations:</td>        <td>35.0000</td>             <td></td>               <td></td>     \n",
       "</tr>\n",
       "</table>\n",
       "<table class=\"simpletable\">\n",
       "<tr>\n",
       "                  <td></td>                      <th>Coef.</th>    <th>Std.Err.</th>    <th>z</th>     <th>P>|z|</th> <th>[0.025</th>  <th>0.975]</th> \n",
       "</tr>\n",
       "<tr>\n",
       "  <th>const</th>                             <td>-329489.5414</td>    <td>nan</td>     <td>nan</td>     <td>nan</td>    <td>nan</td>     <td>nan</td>  \n",
       "</tr>\n",
       "<tr>\n",
       "  <th>Age</th>                                  <td>-0.0214</td>    <td>0.0183</td>  <td>-1.1703</td> <td>0.2419</td> <td>-0.0573</td> <td>0.0145</td> \n",
       "</tr>\n",
       "<tr>\n",
       "  <th>DailyRate</th>                            <td>-0.0003</td>    <td>0.0003</td>  <td>-1.0626</td> <td>0.2880</td> <td>-0.0009</td> <td>0.0003</td> \n",
       "</tr>\n",
       "<tr>\n",
       "  <th>DistanceFromHome</th>                     <td>0.0553</td>     <td>0.0147</td>  <td>3.7696</td>  <td>0.0002</td> <td>0.0266</td>  <td>0.0841</td> \n",
       "</tr>\n",
       "<tr>\n",
       "  <th>HourlyRate</th>                           <td>0.0006</td>     <td>0.0059</td>  <td>0.0997</td>  <td>0.9206</td> <td>-0.0110</td> <td>0.0122</td> \n",
       "</tr>\n",
       "<tr>\n",
       "  <th>MonthlyIncome</th>                        <td>-0.0002</td>    <td>0.0001</td>  <td>-1.2433</td> <td>0.2137</td> <td>-0.0004</td> <td>0.0001</td> \n",
       "</tr>\n",
       "<tr>\n",
       "  <th>MonthlyRate</th>                          <td>0.0000</td>     <td>0.0000</td>  <td>1.1544</td>  <td>0.2483</td> <td>-0.0000</td> <td>0.0001</td> \n",
       "</tr>\n",
       "<tr>\n",
       "  <th>PercentSalaryHike</th>                    <td>0.0290</td>     <td>0.0506</td>  <td>0.5717</td>  <td>0.5675</td> <td>-0.0703</td> <td>0.1282</td> \n",
       "</tr>\n",
       "<tr>\n",
       "  <th>TotalWorkingYears</th>                    <td>-0.0841</td>    <td>0.0422</td>  <td>-1.9924</td> <td>0.0463</td> <td>-0.1668</td> <td>-0.0014</td>\n",
       "</tr>\n",
       "<tr>\n",
       "  <th>TrainingTimesLastYear</th>                <td>-0.1366</td>    <td>0.0946</td>  <td>-1.4427</td> <td>0.1491</td> <td>-0.3221</td> <td>0.0490</td> \n",
       "</tr>\n",
       "<tr>\n",
       "  <th>YearsAtCompany</th>                       <td>0.1480</td>     <td>0.0590</td>  <td>2.5095</td>  <td>0.0121</td> <td>0.0324</td>  <td>0.2635</td> \n",
       "</tr>\n",
       "<tr>\n",
       "  <th>YearsInCurrentRole</th>                   <td>-0.2209</td>    <td>0.0675</td>  <td>-3.2731</td> <td>0.0011</td> <td>-0.3532</td> <td>-0.0886</td>\n",
       "</tr>\n",
       "<tr>\n",
       "  <th>YearsSinceLastPromotion</th>              <td>0.1761</td>     <td>0.0595</td>  <td>2.9579</td>  <td>0.0031</td> <td>0.0594</td>  <td>0.2928</td> \n",
       "</tr>\n",
       "<tr>\n",
       "  <th>YearsWithCurrManager</th>                 <td>-0.1573</td>    <td>0.0652</td>  <td>-2.4147</td> <td>0.0157</td> <td>-0.2850</td> <td>-0.0296</td>\n",
       "</tr>\n",
       "<tr>\n",
       "  <th>BusinessTravel_Travel_Frequently</th>     <td>2.3209</td>     <td>0.5823</td>  <td>3.9857</td>  <td>0.0001</td> <td>1.1796</td>  <td>3.4623</td> \n",
       "</tr>\n",
       "<tr>\n",
       "  <th>BusinessTravel_Travel_Rarely</th>         <td>1.4097</td>     <td>0.5363</td>  <td>2.6287</td>  <td>0.0086</td> <td>0.3586</td>  <td>2.4607</td> \n",
       "</tr>\n",
       "<tr>\n",
       "  <th>Department_Research & Development</th>  <td>329491.2625</td>    <td>nan</td>     <td>nan</td>     <td>nan</td>    <td>nan</td>     <td>nan</td>  \n",
       "</tr>\n",
       "<tr>\n",
       "  <th>Department_Sales</th>                   <td>329491.3648</td>    <td>nan</td>     <td>nan</td>     <td>nan</td>    <td>nan</td>     <td>nan</td>  \n",
       "</tr>\n",
       "<tr>\n",
       "  <th>Education_2</th>                          <td>0.6138</td>     <td>0.4352</td>  <td>1.4106</td>  <td>0.1584</td> <td>-0.2391</td> <td>1.4667</td> \n",
       "</tr>\n",
       "<tr>\n",
       "  <th>Education_3</th>                          <td>0.6041</td>     <td>0.3859</td>  <td>1.5653</td>  <td>0.1175</td> <td>-0.1523</td> <td>1.3605</td> \n",
       "</tr>\n",
       "<tr>\n",
       "  <th>Education_4</th>                          <td>0.6844</td>     <td>0.4160</td>  <td>1.6450</td>  <td>0.1000</td> <td>-0.1310</td> <td>1.4997</td> \n",
       "</tr>\n",
       "<tr>\n",
       "  <th>Education_5</th>                          <td>0.1001</td>     <td>0.8151</td>  <td>0.1229</td>  <td>0.9022</td> <td>-1.4974</td> <td>1.6977</td> \n",
       "</tr>\n",
       "<tr>\n",
       "  <th>EducationField_Life Sciences</th>         <td>-2.3091</td>    <td>1.2162</td>  <td>-1.8986</td> <td>0.0576</td> <td>-4.6929</td> <td>0.0746</td> \n",
       "</tr>\n",
       "<tr>\n",
       "  <th>EducationField_Marketing</th>             <td>-1.5147</td>    <td>1.2685</td>  <td>-1.1941</td> <td>0.2324</td> <td>-4.0008</td> <td>0.9715</td> \n",
       "</tr>\n",
       "<tr>\n",
       "  <th>EducationField_Medical</th>               <td>-2.0780</td>    <td>1.2000</td>  <td>-1.7316</td> <td>0.0833</td> <td>-4.4299</td> <td>0.2740</td> \n",
       "</tr>\n",
       "<tr>\n",
       "  <th>EducationField_Other</th>                 <td>-1.8982</td>    <td>1.2670</td>  <td>-1.4982</td> <td>0.1341</td> <td>-4.3815</td> <td>0.5851</td> \n",
       "</tr>\n",
       "<tr>\n",
       "  <th>EducationField_Technical Degree</th>      <td>-0.4916</td>    <td>1.2180</td>  <td>-0.4036</td> <td>0.6865</td> <td>-2.8789</td> <td>1.8956</td> \n",
       "</tr>\n",
       "<tr>\n",
       "  <th>EnvironmentSatisfaction_2</th>            <td>-1.0623</td>    <td>0.3653</td>  <td>-2.9081</td> <td>0.0036</td> <td>-1.7782</td> <td>-0.3463</td>\n",
       "</tr>\n",
       "<tr>\n",
       "  <th>EnvironmentSatisfaction_3</th>            <td>-1.1968</td>    <td>0.3405</td>  <td>-3.5146</td> <td>0.0004</td> <td>-1.8643</td> <td>-0.5294</td>\n",
       "</tr>\n",
       "<tr>\n",
       "  <th>EnvironmentSatisfaction_4</th>            <td>-1.3502</td>    <td>0.3513</td>  <td>-3.8432</td> <td>0.0001</td> <td>-2.0388</td> <td>-0.6616</td>\n",
       "</tr>\n",
       "<tr>\n",
       "  <th>Gender_Male</th>                          <td>0.4945</td>     <td>0.2458</td>  <td>2.0120</td>  <td>0.0442</td> <td>0.0128</td>  <td>0.9763</td> \n",
       "</tr>\n",
       "<tr>\n",
       "  <th>JobInvolvement_2</th>                     <td>-1.4215</td>    <td>0.4873</td>  <td>-2.9167</td> <td>0.0035</td> <td>-2.3766</td> <td>-0.4663</td>\n",
       "</tr>\n",
       "<tr>\n",
       "  <th>JobInvolvement_3</th>                     <td>-1.6096</td>    <td>0.4572</td>  <td>-3.5208</td> <td>0.0004</td> <td>-2.5057</td> <td>-0.7136</td>\n",
       "</tr>\n",
       "<tr>\n",
       "  <th>JobInvolvement_4</th>                     <td>-2.6151</td>    <td>0.6746</td>  <td>-3.8767</td> <td>0.0001</td> <td>-3.9373</td> <td>-1.2930</td>\n",
       "</tr>\n",
       "<tr>\n",
       "  <th>JobLevel_2</th>                           <td>-1.0181</td>    <td>0.5685</td>  <td>-1.7907</td> <td>0.0733</td> <td>-2.1324</td> <td>0.0963</td> \n",
       "</tr>\n",
       "<tr>\n",
       "  <th>JobLevel_3</th>                           <td>0.7409</td>     <td>0.9256</td>  <td>0.8005</td>  <td>0.4234</td> <td>-1.0731</td> <td>2.5550</td> \n",
       "</tr>\n",
       "<tr>\n",
       "  <th>JobLevel_4</th>                           <td>-0.6354</td>    <td>1.7895</td>  <td>-0.3551</td> <td>0.7225</td> <td>-4.1427</td> <td>2.8719</td> \n",
       "</tr>\n",
       "<tr>\n",
       "  <th>JobLevel_5</th>                           <td>4.1824</td>     <td>2.1626</td>  <td>1.9340</td>  <td>0.0531</td> <td>-0.0562</td> <td>8.4209</td> \n",
       "</tr>\n",
       "<tr>\n",
       "  <th>JobRole_Human Resources</th>            <td>329492.4186</td>    <td>nan</td>     <td>nan</td>     <td>nan</td>    <td>nan</td>     <td>nan</td>  \n",
       "</tr>\n",
       "<tr>\n",
       "  <th>JobRole_Laboratory Technician</th>        <td>1.9020</td>     <td>0.8139</td>  <td>2.3370</td>  <td>0.0194</td> <td>0.3069</td>  <td>3.4972</td> \n",
       "</tr>\n",
       "<tr>\n",
       "  <th>JobRole_Manager</th>                      <td>-0.0439</td>    <td>1.5707</td>  <td>-0.0279</td> <td>0.9777</td> <td>-3.1224</td> <td>3.0347</td> \n",
       "</tr>\n",
       "<tr>\n",
       "  <th>JobRole_Manufacturing Director</th>       <td>1.2677</td>     <td>0.7627</td>  <td>1.6622</td>  <td>0.0965</td> <td>-0.2271</td> <td>2.7625</td> \n",
       "</tr>\n",
       "<tr>\n",
       "  <th>JobRole_Research Director</th>            <td>-2.0880</td>    <td>1.6384</td>  <td>-1.2744</td> <td>0.2025</td> <td>-5.2991</td> <td>1.1232</td> \n",
       "</tr>\n",
       "<tr>\n",
       "  <th>JobRole_Research Scientist</th>           <td>0.5622</td>     <td>0.8260</td>  <td>0.6806</td>  <td>0.4961</td> <td>-1.0568</td> <td>2.1812</td> \n",
       "</tr>\n",
       "<tr>\n",
       "  <th>JobRole_Sales Executive</th>              <td>1.8485</td>     <td>1.6356</td>  <td>1.1302</td>  <td>0.2584</td> <td>-1.3573</td> <td>5.0543</td> \n",
       "</tr>\n",
       "<tr>\n",
       "  <th>JobRole_Sales Representative</th>         <td>1.8214</td>     <td>1.7185</td>  <td>1.0598</td>  <td>0.2892</td> <td>-1.5469</td> <td>5.1897</td> \n",
       "</tr>\n",
       "<tr>\n",
       "  <th>JobSatisfaction_2</th>                    <td>-0.9755</td>    <td>0.3711</td>  <td>-2.6286</td> <td>0.0086</td> <td>-1.7029</td> <td>-0.2481</td>\n",
       "</tr>\n",
       "<tr>\n",
       "  <th>JobSatisfaction_3</th>                    <td>-0.6735</td>    <td>0.3327</td>  <td>-2.0244</td> <td>0.0429</td> <td>-1.3255</td> <td>-0.0214</td>\n",
       "</tr>\n",
       "<tr>\n",
       "  <th>JobSatisfaction_4</th>                    <td>-1.4111</td>    <td>0.3477</td>  <td>-4.0578</td> <td>0.0000</td> <td>-2.0927</td> <td>-0.7295</td>\n",
       "</tr>\n",
       "<tr>\n",
       "  <th>MaritalStatus_Married</th>                <td>0.5309</td>     <td>0.3961</td>  <td>1.3404</td>  <td>0.1801</td> <td>-0.2454</td> <td>1.3071</td> \n",
       "</tr>\n",
       "<tr>\n",
       "  <th>MaritalStatus_Single</th>                 <td>0.9918</td>     <td>0.5424</td>  <td>1.8285</td>  <td>0.0675</td> <td>-0.0713</td> <td>2.0548</td> \n",
       "</tr>\n",
       "<tr>\n",
       "  <th>NumCompaniesWorked_1</th>                 <td>0.2363</td>     <td>0.3867</td>  <td>0.6112</td>  <td>0.5411</td> <td>-0.5216</td> <td>0.9943</td> \n",
       "</tr>\n",
       "<tr>\n",
       "  <th>NumCompaniesWorked_2</th>                 <td>0.6347</td>     <td>0.5706</td>  <td>1.1123</td>  <td>0.2660</td> <td>-0.4837</td> <td>1.7531</td> \n",
       "</tr>\n",
       "<tr>\n",
       "  <th>NumCompaniesWorked_3</th>                 <td>0.2506</td>     <td>0.5621</td>  <td>0.4459</td>  <td>0.6557</td> <td>-0.8511</td> <td>1.3524</td> \n",
       "</tr>\n",
       "<tr>\n",
       "  <th>NumCompaniesWorked_4</th>                 <td>-0.1090</td>    <td>0.6353</td>  <td>-0.1716</td> <td>0.8637</td> <td>-1.3542</td> <td>1.1361</td> \n",
       "</tr>\n",
       "<tr>\n",
       "  <th>NumCompaniesWorked_5</th>                 <td>1.0546</td>     <td>0.6423</td>  <td>1.6419</td>  <td>0.1006</td> <td>-0.2043</td> <td>2.3135</td> \n",
       "</tr>\n",
       "<tr>\n",
       "  <th>NumCompaniesWorked_6</th>                 <td>1.8829</td>     <td>0.6345</td>  <td>2.9674</td>  <td>0.0030</td> <td>0.6393</td>  <td>3.1266</td> \n",
       "</tr>\n",
       "<tr>\n",
       "  <th>NumCompaniesWorked_7</th>                 <td>2.4241</td>     <td>0.5977</td>  <td>4.0559</td>  <td>0.0000</td> <td>1.2527</td>  <td>3.5956</td> \n",
       "</tr>\n",
       "<tr>\n",
       "  <th>NumCompaniesWorked_8</th>                 <td>1.7305</td>     <td>0.7264</td>  <td>2.3823</td>  <td>0.0172</td> <td>0.3068</td>  <td>3.1543</td> \n",
       "</tr>\n",
       "<tr>\n",
       "  <th>NumCompaniesWorked_9</th>                 <td>1.9993</td>     <td>0.7042</td>  <td>2.8391</td>  <td>0.0045</td> <td>0.6191</td>  <td>3.3796</td> \n",
       "</tr>\n",
       "<tr>\n",
       "  <th>OverTime_Yes</th>                         <td>2.3826</td>     <td>0.2688</td>  <td>8.8650</td>  <td>0.0000</td> <td>1.8558</td>  <td>2.9093</td> \n",
       "</tr>\n",
       "<tr>\n",
       "  <th>PerformanceRating_4</th>                  <td>-0.4874</td>    <td>0.5298</td>  <td>-0.9201</td> <td>0.3575</td> <td>-1.5257</td> <td>0.5509</td> \n",
       "</tr>\n",
       "<tr>\n",
       "  <th>RelationshipSatisfaction_2</th>           <td>-0.9959</td>    <td>0.3732</td>  <td>-2.6685</td> <td>0.0076</td> <td>-1.7273</td> <td>-0.2644</td>\n",
       "</tr>\n",
       "<tr>\n",
       "  <th>RelationshipSatisfaction_3</th>           <td>-0.8153</td>    <td>0.3396</td>  <td>-2.4004</td> <td>0.0164</td> <td>-1.4810</td> <td>-0.1496</td>\n",
       "</tr>\n",
       "<tr>\n",
       "  <th>RelationshipSatisfaction_4</th>           <td>-0.9219</td>    <td>0.3403</td>  <td>-2.7089</td> <td>0.0068</td> <td>-1.5890</td> <td>-0.2549</td>\n",
       "</tr>\n",
       "<tr>\n",
       "  <th>StockOptionLevel_1</th>                   <td>-1.3376</td>    <td>0.4122</td>  <td>-3.2453</td> <td>0.0012</td> <td>-2.1454</td> <td>-0.5298</td>\n",
       "</tr>\n",
       "<tr>\n",
       "  <th>StockOptionLevel_2</th>                   <td>-0.9697</td>    <td>0.5799</td>  <td>-1.6722</td> <td>0.0945</td> <td>-2.1062</td> <td>0.1668</td> \n",
       "</tr>\n",
       "<tr>\n",
       "  <th>StockOptionLevel_3</th>                   <td>-0.5959</td>    <td>0.5955</td>  <td>-1.0008</td> <td>0.3169</td> <td>-1.7631</td> <td>0.5712</td> \n",
       "</tr>\n",
       "<tr>\n",
       "  <th>WorkLifeBalance_2</th>                    <td>-0.4383</td>    <td>0.5094</td>  <td>-0.8604</td> <td>0.3896</td> <td>-1.4368</td> <td>0.5602</td> \n",
       "</tr>\n",
       "<tr>\n",
       "  <th>WorkLifeBalance_3</th>                    <td>-1.0935</td>    <td>0.4817</td>  <td>-2.2700</td> <td>0.0232</td> <td>-2.0376</td> <td>-0.1493</td>\n",
       "</tr>\n",
       "<tr>\n",
       "  <th>WorkLifeBalance_4</th>                    <td>-0.8799</td>    <td>0.5978</td>  <td>-1.4720</td> <td>0.1410</td> <td>-2.0515</td> <td>0.2917</td> \n",
       "</tr>\n",
       "</table>"
      ],
      "text/plain": [
       "<class 'statsmodels.iolib.summary2.Summary'>\n",
       "\"\"\"\n",
       "                                    Results: Logit\n",
       "======================================================================================\n",
       "Model:                     Logit                   Pseudo R-squared:        0.448     \n",
       "Dependent Variable:        Attrition               AIC:                     661.4190  \n",
       "Date:                      2019-11-04 22:35        BIC:                     1011.8993 \n",
       "No. Observations:          1029                    Log-Likelihood:          -259.71   \n",
       "Df Model:                  70                      LL-Null:                 -470.80   \n",
       "Df Residuals:              958                     LLR p-value:             9.1681e-52\n",
       "Converged:                 0.0000                  Scale:                   1.0000    \n",
       "No. Iterations:            35.0000                                                    \n",
       "--------------------------------------------------------------------------------------\n",
       "                                     Coef.     Std.Err.    z    P>|z|   [0.025  0.975]\n",
       "--------------------------------------------------------------------------------------\n",
       "const                             -329489.5414      nan     nan    nan     nan     nan\n",
       "Age                                    -0.0214   0.0183 -1.1703 0.2419 -0.0573  0.0145\n",
       "DailyRate                              -0.0003   0.0003 -1.0626 0.2880 -0.0009  0.0003\n",
       "DistanceFromHome                        0.0553   0.0147  3.7696 0.0002  0.0266  0.0841\n",
       "HourlyRate                              0.0006   0.0059  0.0997 0.9206 -0.0110  0.0122\n",
       "MonthlyIncome                          -0.0002   0.0001 -1.2433 0.2137 -0.0004  0.0001\n",
       "MonthlyRate                             0.0000   0.0000  1.1544 0.2483 -0.0000  0.0001\n",
       "PercentSalaryHike                       0.0290   0.0506  0.5717 0.5675 -0.0703  0.1282\n",
       "TotalWorkingYears                      -0.0841   0.0422 -1.9924 0.0463 -0.1668 -0.0014\n",
       "TrainingTimesLastYear                  -0.1366   0.0946 -1.4427 0.1491 -0.3221  0.0490\n",
       "YearsAtCompany                          0.1480   0.0590  2.5095 0.0121  0.0324  0.2635\n",
       "YearsInCurrentRole                     -0.2209   0.0675 -3.2731 0.0011 -0.3532 -0.0886\n",
       "YearsSinceLastPromotion                 0.1761   0.0595  2.9579 0.0031  0.0594  0.2928\n",
       "YearsWithCurrManager                   -0.1573   0.0652 -2.4147 0.0157 -0.2850 -0.0296\n",
       "BusinessTravel_Travel_Frequently        2.3209   0.5823  3.9857 0.0001  1.1796  3.4623\n",
       "BusinessTravel_Travel_Rarely            1.4097   0.5363  2.6287 0.0086  0.3586  2.4607\n",
       "Department_Research & Development  329491.2625      nan     nan    nan     nan     nan\n",
       "Department_Sales                   329491.3648      nan     nan    nan     nan     nan\n",
       "Education_2                             0.6138   0.4352  1.4106 0.1584 -0.2391  1.4667\n",
       "Education_3                             0.6041   0.3859  1.5653 0.1175 -0.1523  1.3605\n",
       "Education_4                             0.6844   0.4160  1.6450 0.1000 -0.1310  1.4997\n",
       "Education_5                             0.1001   0.8151  0.1229 0.9022 -1.4974  1.6977\n",
       "EducationField_Life Sciences           -2.3091   1.2162 -1.8986 0.0576 -4.6929  0.0746\n",
       "EducationField_Marketing               -1.5147   1.2685 -1.1941 0.2324 -4.0008  0.9715\n",
       "EducationField_Medical                 -2.0780   1.2000 -1.7316 0.0833 -4.4299  0.2740\n",
       "EducationField_Other                   -1.8982   1.2670 -1.4982 0.1341 -4.3815  0.5851\n",
       "EducationField_Technical Degree        -0.4916   1.2180 -0.4036 0.6865 -2.8789  1.8956\n",
       "EnvironmentSatisfaction_2              -1.0623   0.3653 -2.9081 0.0036 -1.7782 -0.3463\n",
       "EnvironmentSatisfaction_3              -1.1968   0.3405 -3.5146 0.0004 -1.8643 -0.5294\n",
       "EnvironmentSatisfaction_4              -1.3502   0.3513 -3.8432 0.0001 -2.0388 -0.6616\n",
       "Gender_Male                             0.4945   0.2458  2.0120 0.0442  0.0128  0.9763\n",
       "JobInvolvement_2                       -1.4215   0.4873 -2.9167 0.0035 -2.3766 -0.4663\n",
       "JobInvolvement_3                       -1.6096   0.4572 -3.5208 0.0004 -2.5057 -0.7136\n",
       "JobInvolvement_4                       -2.6151   0.6746 -3.8767 0.0001 -3.9373 -1.2930\n",
       "JobLevel_2                             -1.0181   0.5685 -1.7907 0.0733 -2.1324  0.0963\n",
       "JobLevel_3                              0.7409   0.9256  0.8005 0.4234 -1.0731  2.5550\n",
       "JobLevel_4                             -0.6354   1.7895 -0.3551 0.7225 -4.1427  2.8719\n",
       "JobLevel_5                              4.1824   2.1626  1.9340 0.0531 -0.0562  8.4209\n",
       "JobRole_Human Resources            329492.4186      nan     nan    nan     nan     nan\n",
       "JobRole_Laboratory Technician           1.9020   0.8139  2.3370 0.0194  0.3069  3.4972\n",
       "JobRole_Manager                        -0.0439   1.5707 -0.0279 0.9777 -3.1224  3.0347\n",
       "JobRole_Manufacturing Director          1.2677   0.7627  1.6622 0.0965 -0.2271  2.7625\n",
       "JobRole_Research Director              -2.0880   1.6384 -1.2744 0.2025 -5.2991  1.1232\n",
       "JobRole_Research Scientist              0.5622   0.8260  0.6806 0.4961 -1.0568  2.1812\n",
       "JobRole_Sales Executive                 1.8485   1.6356  1.1302 0.2584 -1.3573  5.0543\n",
       "JobRole_Sales Representative            1.8214   1.7185  1.0598 0.2892 -1.5469  5.1897\n",
       "JobSatisfaction_2                      -0.9755   0.3711 -2.6286 0.0086 -1.7029 -0.2481\n",
       "JobSatisfaction_3                      -0.6735   0.3327 -2.0244 0.0429 -1.3255 -0.0214\n",
       "JobSatisfaction_4                      -1.4111   0.3477 -4.0578 0.0000 -2.0927 -0.7295\n",
       "MaritalStatus_Married                   0.5309   0.3961  1.3404 0.1801 -0.2454  1.3071\n",
       "MaritalStatus_Single                    0.9918   0.5424  1.8285 0.0675 -0.0713  2.0548\n",
       "NumCompaniesWorked_1                    0.2363   0.3867  0.6112 0.5411 -0.5216  0.9943\n",
       "NumCompaniesWorked_2                    0.6347   0.5706  1.1123 0.2660 -0.4837  1.7531\n",
       "NumCompaniesWorked_3                    0.2506   0.5621  0.4459 0.6557 -0.8511  1.3524\n",
       "NumCompaniesWorked_4                   -0.1090   0.6353 -0.1716 0.8637 -1.3542  1.1361\n",
       "NumCompaniesWorked_5                    1.0546   0.6423  1.6419 0.1006 -0.2043  2.3135\n",
       "NumCompaniesWorked_6                    1.8829   0.6345  2.9674 0.0030  0.6393  3.1266\n",
       "NumCompaniesWorked_7                    2.4241   0.5977  4.0559 0.0000  1.2527  3.5956\n",
       "NumCompaniesWorked_8                    1.7305   0.7264  2.3823 0.0172  0.3068  3.1543\n",
       "NumCompaniesWorked_9                    1.9993   0.7042  2.8391 0.0045  0.6191  3.3796\n",
       "OverTime_Yes                            2.3826   0.2688  8.8650 0.0000  1.8558  2.9093\n",
       "PerformanceRating_4                    -0.4874   0.5298 -0.9201 0.3575 -1.5257  0.5509\n",
       "RelationshipSatisfaction_2             -0.9959   0.3732 -2.6685 0.0076 -1.7273 -0.2644\n",
       "RelationshipSatisfaction_3             -0.8153   0.3396 -2.4004 0.0164 -1.4810 -0.1496\n",
       "RelationshipSatisfaction_4             -0.9219   0.3403 -2.7089 0.0068 -1.5890 -0.2549\n",
       "StockOptionLevel_1                     -1.3376   0.4122 -3.2453 0.0012 -2.1454 -0.5298\n",
       "StockOptionLevel_2                     -0.9697   0.5799 -1.6722 0.0945 -2.1062  0.1668\n",
       "StockOptionLevel_3                     -0.5959   0.5955 -1.0008 0.3169 -1.7631  0.5712\n",
       "WorkLifeBalance_2                      -0.4383   0.5094 -0.8604 0.3896 -1.4368  0.5602\n",
       "WorkLifeBalance_3                      -1.0935   0.4817 -2.2700 0.0232 -2.0376 -0.1493\n",
       "WorkLifeBalance_4                      -0.8799   0.5978 -1.4720 0.1410 -2.0515  0.2917\n",
       "======================================================================================\n",
       "\n",
       "\"\"\""
      ]
     },
     "execution_count": 19,
     "metadata": {},
     "output_type": "execute_result"
    }
   ],
   "source": [
    "logit_initial.summary2()"
   ]
  },
  {
   "cell_type": "markdown",
   "metadata": {},
   "source": [
    "### A function for drawing confusion matrix"
   ]
  },
  {
   "cell_type": "code",
   "execution_count": 20,
   "metadata": {},
   "outputs": [],
   "source": [
    "\n",
    "def draw_cm(actual,predicted):\n",
    "    cm = metrics.confusion_matrix(actual,predicted,[1,0])\n",
    "    sns.heatmap(cm,annot=True,fmt='.2f',xticklabels=['Yes','No'],yticklabels=['Yes','No'])\n",
    "    plt.ylabel('Actual Values')\n",
    "    plt.xlabel('Predicted Values')\n",
    "    plt.title('Confusion Matrix')\n",
    "    plt.show()\n",
    "    \n",
    "    "
   ]
  },
  {
   "cell_type": "code",
   "execution_count": 21,
   "metadata": {},
   "outputs": [
    {
     "data": {
      "image/png": "[encoded data removed]",
      "text/plain": [
       "<Figure size 432x288 with 2 Axes>"
      ]
     },
     "metadata": {
      "needs_background": "light"
     },
     "output_type": "display_data"
    }
   ],
   "source": [
    "draw_cm(y_test,logit_initial.predict(sm.add_constant(x_test)).map(lambda x: 1 if x>=0.5 else 0))"
   ]
  },
  {
   "cell_type": "markdown",
   "metadata": {},
   "source": [
    "### A function to display classification report"
   ]
  },
  {
   "cell_type": "code",
   "execution_count": 22,
   "metadata": {},
   "outputs": [],
   "source": [
    "def display_classification_report(actual,predicted):\n",
    "    print(metrics.classification_report(actual,predicted));\n",
    "    "
   ]
  },
  {
   "cell_type": "code",
   "execution_count": 23,
   "metadata": {},
   "outputs": [
    {
     "name": "stdout",
     "output_type": "stream",
     "text": [
      "             precision    recall  f1-score   support\n",
      "\n",
      "          0       0.91      0.93      0.92       380\n",
      "          1       0.51      0.44      0.47        61\n",
      "\n",
      "avg / total       0.86      0.86      0.86       441\n",
      "\n"
     ]
    }
   ],
   "source": [
    "display_classification_report(y_test,logit_initial.predict(sm.add_constant(x_test)).map(lambda x: 1 if x>=0.5 else 0))"
   ]
  },
  {
   "cell_type": "markdown",
   "metadata": {},
   "source": [
    "### A function for drawing ROC and AUC curve"
   ]
  },
  {
   "cell_type": "code",
   "execution_count": 24,
   "metadata": {},
   "outputs": [],
   "source": [
    "def draw_roc_auc_curve(actual,predicted):\n",
    "    #obtain fpr,tpr,thresholds\n",
    "    fpr,tpr,thresholds=metrics.roc_curve(actual,predicted,drop_intermediate=False)\n",
    "    auc_score=metrics.roc_auc_score(actual,predicted)\n",
    "    \n",
    "    plt.figure(figsize=(8,6))\n",
    "    \n",
    "    #plot the fpr and tpr values for different thresholds\n",
    "    plt.plot(fpr,tpr,label='ROC Curve (Area = %0.2f)' %auc_score)\n",
    "    \n",
    "    #draw a diagonal line connecting the origin and top right most point\n",
    "    plt.plot([0,1],[0,1],'k--')\n",
    "    \n",
    "    #setting the limits on both axes\n",
    "    plt.xlim([0.0,1.0])\n",
    "    plt.ylim([0.0,1.05])\n",
    "    \n",
    "    #Setting x and y labels\n",
    "    plt.ylabel('True Positive Rate (Sensitivity)')\n",
    "    plt.xlabel('False Positive Rate(1-Specificity)')\n",
    "    plt.legend(loc=\"lower right\")\n",
    "    plt.show()\n",
    "    \n",
    "    return fpr,tpr,thresholds"
   ]
  },
  {
   "cell_type": "code",
   "execution_count": 25,
   "metadata": {},
   "outputs": [
    {
     "data": {
      "image/png": "[encoded data removed]",
      "text/plain": [
       "<Figure size 576x432 with 1 Axes>"
      ]
     },
     "metadata": {
      "needs_background": "light"
     },
     "output_type": "display_data"
    }
   ],
   "source": [
    "fpr,tpr,thresholds = draw_roc_auc_curve(y_test,logit_initial.predict(sm.add_constant(x_test)))"
   ]
  },
  {
   "cell_type": "markdown",
   "metadata": {},
   "source": [
    "## Using only the significant variables for Logistic Regression"
   ]
  },
  {
   "cell_type": "code",
   "execution_count": 26,
   "metadata": {},
   "outputs": [],
   "source": [
    "def get_significant_vars(model):\n",
    "    var_df=pd.DataFrame(model.pvalues)\n",
    "    var_df['vars']=var_df.index\n",
    "    var_df.columns=['pvalue','vars']\n",
    "    return list(var_df[var_df['pvalue']<= 0.05]['vars']) \n",
    "    "
   ]
  },
  {
   "cell_type": "code",
   "execution_count": 27,
   "metadata": {},
   "outputs": [],
   "source": [
    "significant_vars = get_significant_vars(logit_initial)"
   ]
  },
  {
   "cell_type": "code",
   "execution_count": 28,
   "metadata": {},
   "outputs": [
    {
     "name": "stdout",
     "output_type": "stream",
     "text": [
      "Optimization terminated successfully.\n",
      "         Current function value: 0.313308\n",
      "         Iterations 8\n"
     ]
    }
   ],
   "source": [
    "logit_intermediate = sm.Logit(y_train,sm.add_constant(x_train[significant_vars])).fit()"
   ]
  },
  {
   "cell_type": "code",
   "execution_count": 29,
   "metadata": {},
   "outputs": [
    {
     "data": {
      "text/html": [
       "<table class=\"simpletable\">\n",
       "<tr>\n",
       "        <td>Model:</td>              <td>Logit</td>      <td>Pseudo R-squared:</td>    <td>0.315</td>  \n",
       "</tr>\n",
       "<tr>\n",
       "  <td>Dependent Variable:</td>     <td>Attrition</td>          <td>AIC:</td>         <td>704.7883</td> \n",
       "</tr>\n",
       "<tr>\n",
       "         <td>Date:</td>        <td>2019-11-04 22:35</td>       <td>BIC:</td>         <td>852.8785</td> \n",
       "</tr>\n",
       "<tr>\n",
       "   <td>No. Observations:</td>        <td>1029</td>        <td>Log-Likelihood:</td>    <td>-322.39</td> \n",
       "</tr>\n",
       "<tr>\n",
       "       <td>Df Model:</td>             <td>29</td>            <td>LL-Null:</td>        <td>-470.80</td> \n",
       "</tr>\n",
       "<tr>\n",
       "     <td>Df Residuals:</td>           <td>999</td>         <td>LLR p-value:</td>    <td>3.4716e-46</td>\n",
       "</tr>\n",
       "<tr>\n",
       "      <td>Converged:</td>           <td>1.0000</td>           <td>Scale:</td>         <td>1.0000</td>  \n",
       "</tr>\n",
       "<tr>\n",
       "    <td>No. Iterations:</td>        <td>8.0000</td>              <td></td>               <td></td>     \n",
       "</tr>\n",
       "</table>\n",
       "<table class=\"simpletable\">\n",
       "<tr>\n",
       "                  <td></td>                  <th>Coef.</th>  <th>Std.Err.</th>    <th>z</th>     <th>P>|z|</th> <th>[0.025</th>  <th>0.975]</th> \n",
       "</tr>\n",
       "<tr>\n",
       "  <th>const</th>                            <td>0.9183</td>   <td>0.7042</td>  <td>1.3041</td>  <td>0.1922</td> <td>-0.4619</td> <td>2.2985</td> \n",
       "</tr>\n",
       "<tr>\n",
       "  <th>DistanceFromHome</th>                 <td>0.0308</td>   <td>0.0122</td>  <td>2.5221</td>  <td>0.0117</td> <td>0.0069</td>  <td>0.0547</td> \n",
       "</tr>\n",
       "<tr>\n",
       "  <th>TotalWorkingYears</th>                <td>-0.1350</td>  <td>0.0258</td>  <td>-5.2361</td> <td>0.0000</td> <td>-0.1855</td> <td>-0.0844</td>\n",
       "</tr>\n",
       "<tr>\n",
       "  <th>YearsAtCompany</th>                   <td>0.1071</td>   <td>0.0451</td>  <td>2.3772</td>  <td>0.0174</td> <td>0.0188</td>  <td>0.1954</td> \n",
       "</tr>\n",
       "<tr>\n",
       "  <th>YearsInCurrentRole</th>               <td>-0.1909</td>  <td>0.0549</td>  <td>-3.4769</td> <td>0.0005</td> <td>-0.2984</td> <td>-0.0833</td>\n",
       "</tr>\n",
       "<tr>\n",
       "  <th>YearsSinceLastPromotion</th>          <td>0.1477</td>   <td>0.0488</td>  <td>3.0246</td>  <td>0.0025</td> <td>0.0520</td>  <td>0.2434</td> \n",
       "</tr>\n",
       "<tr>\n",
       "  <th>YearsWithCurrManager</th>             <td>-0.0877</td>  <td>0.0552</td>  <td>-1.5898</td> <td>0.1119</td> <td>-0.1959</td> <td>0.0204</td> \n",
       "</tr>\n",
       "<tr>\n",
       "  <th>BusinessTravel_Travel_Frequently</th> <td>1.9306</td>   <td>0.4772</td>  <td>4.0454</td>  <td>0.0001</td> <td>0.9953</td>  <td>2.8660</td> \n",
       "</tr>\n",
       "<tr>\n",
       "  <th>BusinessTravel_Travel_Rarely</th>     <td>1.1029</td>   <td>0.4423</td>  <td>2.4933</td>  <td>0.0127</td> <td>0.2359</td>  <td>1.9698</td> \n",
       "</tr>\n",
       "<tr>\n",
       "  <th>EnvironmentSatisfaction_2</th>        <td>-0.9652</td>  <td>0.3130</td>  <td>-3.0835</td> <td>0.0020</td> <td>-1.5788</td> <td>-0.3517</td>\n",
       "</tr>\n",
       "<tr>\n",
       "  <th>EnvironmentSatisfaction_3</th>        <td>-1.0649</td>  <td>0.2898</td>  <td>-3.6744</td> <td>0.0002</td> <td>-1.6329</td> <td>-0.4968</td>\n",
       "</tr>\n",
       "<tr>\n",
       "  <th>EnvironmentSatisfaction_4</th>        <td>-1.2097</td>  <td>0.2932</td>  <td>-4.1258</td> <td>0.0000</td> <td>-1.7844</td> <td>-0.6350</td>\n",
       "</tr>\n",
       "<tr>\n",
       "  <th>Gender_Male</th>                      <td>0.3492</td>   <td>0.2129</td>  <td>1.6404</td>  <td>0.1009</td> <td>-0.0680</td> <td>0.7663</td> \n",
       "</tr>\n",
       "<tr>\n",
       "  <th>JobInvolvement_2</th>                 <td>-1.0107</td>  <td>0.4110</td>  <td>-2.4594</td> <td>0.0139</td> <td>-1.8162</td> <td>-0.2052</td>\n",
       "</tr>\n",
       "<tr>\n",
       "  <th>JobInvolvement_3</th>                 <td>-1.3749</td>  <td>0.3894</td>  <td>-3.5311</td> <td>0.0004</td> <td>-2.1381</td> <td>-0.6117</td>\n",
       "</tr>\n",
       "<tr>\n",
       "  <th>JobInvolvement_4</th>                 <td>-2.3811</td>  <td>0.5612</td>  <td>-4.2428</td> <td>0.0000</td> <td>-3.4810</td> <td>-1.2811</td>\n",
       "</tr>\n",
       "<tr>\n",
       "  <th>JobRole_Laboratory Technician</th>    <td>0.6231</td>   <td>0.2497</td>  <td>2.4950</td>  <td>0.0126</td> <td>0.1336</td>  <td>1.1125</td> \n",
       "</tr>\n",
       "<tr>\n",
       "  <th>JobSatisfaction_2</th>                <td>-0.8192</td>  <td>0.3117</td>  <td>-2.6279</td> <td>0.0086</td> <td>-1.4302</td> <td>-0.2082</td>\n",
       "</tr>\n",
       "<tr>\n",
       "  <th>JobSatisfaction_3</th>                <td>-0.7155</td>  <td>0.2782</td>  <td>-2.5716</td> <td>0.0101</td> <td>-1.2609</td> <td>-0.1702</td>\n",
       "</tr>\n",
       "<tr>\n",
       "  <th>JobSatisfaction_4</th>                <td>-1.3840</td>  <td>0.2980</td>  <td>-4.6440</td> <td>0.0000</td> <td>-1.9682</td> <td>-0.7999</td>\n",
       "</tr>\n",
       "<tr>\n",
       "  <th>NumCompaniesWorked_6</th>             <td>1.2486</td>   <td>0.4552</td>  <td>2.7427</td>  <td>0.0061</td> <td>0.3563</td>  <td>2.1409</td> \n",
       "</tr>\n",
       "<tr>\n",
       "  <th>NumCompaniesWorked_7</th>             <td>1.6809</td>   <td>0.4404</td>  <td>3.8172</td>  <td>0.0001</td> <td>0.8179</td>  <td>2.5440</td> \n",
       "</tr>\n",
       "<tr>\n",
       "  <th>NumCompaniesWorked_8</th>             <td>1.0237</td>   <td>0.5382</td>  <td>1.9020</td>  <td>0.0572</td> <td>-0.0312</td> <td>2.0785</td> \n",
       "</tr>\n",
       "<tr>\n",
       "  <th>NumCompaniesWorked_9</th>             <td>1.5766</td>   <td>0.5100</td>  <td>3.0916</td>  <td>0.0020</td> <td>0.5771</td>  <td>2.5761</td> \n",
       "</tr>\n",
       "<tr>\n",
       "  <th>OverTime_Yes</th>                     <td>1.9210</td>   <td>0.2189</td>  <td>8.7743</td>  <td>0.0000</td> <td>1.4919</td>  <td>2.3502</td> \n",
       "</tr>\n",
       "<tr>\n",
       "  <th>RelationshipSatisfaction_2</th>       <td>-0.8204</td>  <td>0.3161</td>  <td>-2.5959</td> <td>0.0094</td> <td>-1.4399</td> <td>-0.2010</td>\n",
       "</tr>\n",
       "<tr>\n",
       "  <th>RelationshipSatisfaction_3</th>       <td>-0.6800</td>  <td>0.2849</td>  <td>-2.3869</td> <td>0.0170</td> <td>-1.2384</td> <td>-0.1216</td>\n",
       "</tr>\n",
       "<tr>\n",
       "  <th>RelationshipSatisfaction_4</th>       <td>-0.7874</td>  <td>0.2933</td>  <td>-2.6843</td> <td>0.0073</td> <td>-1.3623</td> <td>-0.2125</td>\n",
       "</tr>\n",
       "<tr>\n",
       "  <th>StockOptionLevel_1</th>               <td>-1.2119</td>  <td>0.2383</td>  <td>-5.0865</td> <td>0.0000</td> <td>-1.6789</td> <td>-0.7449</td>\n",
       "</tr>\n",
       "<tr>\n",
       "  <th>WorkLifeBalance_3</th>                <td>-0.4675</td>  <td>0.2085</td>  <td>-2.2425</td> <td>0.0249</td> <td>-0.8761</td> <td>-0.0589</td>\n",
       "</tr>\n",
       "</table>"
      ],
      "text/plain": [
       "<class 'statsmodels.iolib.summary2.Summary'>\n",
       "\"\"\"\n",
       "                                 Results: Logit\n",
       "================================================================================\n",
       "Model:                   Logit                 Pseudo R-squared:      0.315     \n",
       "Dependent Variable:      Attrition             AIC:                   704.7883  \n",
       "Date:                    2019-11-04 22:35      BIC:                   852.8785  \n",
       "No. Observations:        1029                  Log-Likelihood:        -322.39   \n",
       "Df Model:                29                    LL-Null:               -470.80   \n",
       "Df Residuals:            999                   LLR p-value:           3.4716e-46\n",
       "Converged:               1.0000                Scale:                 1.0000    \n",
       "No. Iterations:          8.0000                                                 \n",
       "--------------------------------------------------------------------------------\n",
       "                                  Coef.  Std.Err.    z    P>|z|   [0.025  0.975]\n",
       "--------------------------------------------------------------------------------\n",
       "const                             0.9183   0.7042  1.3041 0.1922 -0.4619  2.2985\n",
       "DistanceFromHome                  0.0308   0.0122  2.5221 0.0117  0.0069  0.0547\n",
       "TotalWorkingYears                -0.1350   0.0258 -5.2361 0.0000 -0.1855 -0.0844\n",
       "YearsAtCompany                    0.1071   0.0451  2.3772 0.0174  0.0188  0.1954\n",
       "YearsInCurrentRole               -0.1909   0.0549 -3.4769 0.0005 -0.2984 -0.0833\n",
       "YearsSinceLastPromotion           0.1477   0.0488  3.0246 0.0025  0.0520  0.2434\n",
       "YearsWithCurrManager             -0.0877   0.0552 -1.5898 0.1119 -0.1959  0.0204\n",
       "BusinessTravel_Travel_Frequently  1.9306   0.4772  4.0454 0.0001  0.9953  2.8660\n",
       "BusinessTravel_Travel_Rarely      1.1029   0.4423  2.4933 0.0127  0.2359  1.9698\n",
       "EnvironmentSatisfaction_2        -0.9652   0.3130 -3.0835 0.0020 -1.5788 -0.3517\n",
       "EnvironmentSatisfaction_3        -1.0649   0.2898 -3.6744 0.0002 -1.6329 -0.4968\n",
       "EnvironmentSatisfaction_4        -1.2097   0.2932 -4.1258 0.0000 -1.7844 -0.6350\n",
       "Gender_Male                       0.3492   0.2129  1.6404 0.1009 -0.0680  0.7663\n",
       "JobInvolvement_2                 -1.0107   0.4110 -2.4594 0.0139 -1.8162 -0.2052\n",
       "JobInvolvement_3                 -1.3749   0.3894 -3.5311 0.0004 -2.1381 -0.6117\n",
       "JobInvolvement_4                 -2.3811   0.5612 -4.2428 0.0000 -3.4810 -1.2811\n",
       "JobRole_Laboratory Technician     0.6231   0.2497  2.4950 0.0126  0.1336  1.1125\n",
       "JobSatisfaction_2                -0.8192   0.3117 -2.6279 0.0086 -1.4302 -0.2082\n",
       "JobSatisfaction_3                -0.7155   0.2782 -2.5716 0.0101 -1.2609 -0.1702\n",
       "JobSatisfaction_4                -1.3840   0.2980 -4.6440 0.0000 -1.9682 -0.7999\n",
       "NumCompaniesWorked_6              1.2486   0.4552  2.7427 0.0061  0.3563  2.1409\n",
       "NumCompaniesWorked_7              1.6809   0.4404  3.8172 0.0001  0.8179  2.5440\n",
       "NumCompaniesWorked_8              1.0237   0.5382  1.9020 0.0572 -0.0312  2.0785\n",
       "NumCompaniesWorked_9              1.5766   0.5100  3.0916 0.0020  0.5771  2.5761\n",
       "OverTime_Yes                      1.9210   0.2189  8.7743 0.0000  1.4919  2.3502\n",
       "RelationshipSatisfaction_2       -0.8204   0.3161 -2.5959 0.0094 -1.4399 -0.2010\n",
       "RelationshipSatisfaction_3       -0.6800   0.2849 -2.3869 0.0170 -1.2384 -0.1216\n",
       "RelationshipSatisfaction_4       -0.7874   0.2933 -2.6843 0.0073 -1.3623 -0.2125\n",
       "StockOptionLevel_1               -1.2119   0.2383 -5.0865 0.0000 -1.6789 -0.7449\n",
       "WorkLifeBalance_3                -0.4675   0.2085 -2.2425 0.0249 -0.8761 -0.0589\n",
       "================================================================================\n",
       "\n",
       "\"\"\""
      ]
     },
     "execution_count": 29,
     "metadata": {},
     "output_type": "execute_result"
    }
   ],
   "source": [
    "logit_intermediate.summary2()"
   ]
  },
  {
   "cell_type": "code",
   "execution_count": 30,
   "metadata": {},
   "outputs": [
    {
     "data": {
      "image/png": "[encoded data removed]",
      "text/plain": [
       "<Figure size 432x288 with 2 Axes>"
      ]
     },
     "metadata": {
      "needs_background": "light"
     },
     "output_type": "display_data"
    }
   ],
   "source": [
    "draw_cm(y_test,\n",
    "        logit_intermediate.predict(sm.add_constant(x_test[significant_vars])).map(lambda x: 1 if x>=0.5 else 0))"
   ]
  },
  {
   "cell_type": "code",
   "execution_count": 31,
   "metadata": {},
   "outputs": [
    {
     "name": "stdout",
     "output_type": "stream",
     "text": [
      "             precision    recall  f1-score   support\n",
      "\n",
      "          0       0.89      0.95      0.92       380\n",
      "          1       0.47      0.30      0.36        61\n",
      "\n",
      "avg / total       0.84      0.86      0.84       441\n",
      "\n"
     ]
    }
   ],
   "source": [
    "display_classification_report(y_test,\n",
    "        logit_intermediate.predict(sm.add_constant(x_test[significant_vars])).map(lambda x: 1 if x>=0.5 else 0))"
   ]
  },
  {
   "cell_type": "code",
   "execution_count": 32,
   "metadata": {},
   "outputs": [
    {
     "data": {
      "image/png": "[encoded data removed]",
      "text/plain": [
       "<Figure size 576x432 with 1 Axes>"
      ]
     },
     "metadata": {
      "needs_background": "light"
     },
     "output_type": "display_data"
    }
   ],
   "source": [
    "fpr,tpr,thresholds = draw_roc_auc_curve(y_test,\n",
    "        logit_intermediate.predict(sm.add_constant(x_test[significant_vars])))"
   ]
  },
  {
   "cell_type": "markdown",
   "metadata": {},
   "source": [
    "# Finding optimal classification cut off probability using Youden's index:"
   ]
  },
  {
   "cell_type": "code",
   "execution_count": 33,
   "metadata": {},
   "outputs": [
    {
     "data": {
      "text/html": [
       "<div>\n",
       "<style scoped>\n",
       "    .dataframe tbody tr th:only-of-type {\n",
       "        vertical-align: middle;\n",
       "    }\n",
       "\n",
       "    .dataframe tbody tr th {\n",
       "        vertical-align: top;\n",
       "    }\n",
       "\n",
       "    .dataframe thead th {\n",
       "        text-align: right;\n",
       "    }\n",
       "</style>\n",
       "<table border=\"1\" class=\"dataframe\">\n",
       "  <thead>\n",
       "    <tr style=\"text-align: right;\">\n",
       "      <th></th>\n",
       "      <th>tpr</th>\n",
       "      <th>fpr</th>\n",
       "      <th>thresholds</th>\n",
       "      <th>diff</th>\n",
       "    </tr>\n",
       "  </thead>\n",
       "  <tbody>\n",
       "    <tr>\n",
       "      <th>106</th>\n",
       "      <td>0.672131</td>\n",
       "      <td>0.173684</td>\n",
       "      <td>0.203631</td>\n",
       "      <td>0.498447</td>\n",
       "    </tr>\n",
       "    <tr>\n",
       "      <th>107</th>\n",
       "      <td>0.672131</td>\n",
       "      <td>0.176316</td>\n",
       "      <td>0.196898</td>\n",
       "      <td>0.495815</td>\n",
       "    </tr>\n",
       "    <tr>\n",
       "      <th>108</th>\n",
       "      <td>0.672131</td>\n",
       "      <td>0.178947</td>\n",
       "      <td>0.191537</td>\n",
       "      <td>0.493184</td>\n",
       "    </tr>\n",
       "    <tr>\n",
       "      <th>109</th>\n",
       "      <td>0.672131</td>\n",
       "      <td>0.181579</td>\n",
       "      <td>0.190511</td>\n",
       "      <td>0.490552</td>\n",
       "    </tr>\n",
       "    <tr>\n",
       "      <th>110</th>\n",
       "      <td>0.672131</td>\n",
       "      <td>0.184211</td>\n",
       "      <td>0.189131</td>\n",
       "      <td>0.487921</td>\n",
       "    </tr>\n",
       "  </tbody>\n",
       "</table>\n",
       "</div>"
      ],
      "text/plain": [
       "          tpr       fpr  thresholds      diff\n",
       "106  0.672131  0.173684    0.203631  0.498447\n",
       "107  0.672131  0.176316    0.196898  0.495815\n",
       "108  0.672131  0.178947    0.191537  0.493184\n",
       "109  0.672131  0.181579    0.190511  0.490552\n",
       "110  0.672131  0.184211    0.189131  0.487921"
      ]
     },
     "execution_count": 33,
     "metadata": {},
     "output_type": "execute_result"
    }
   ],
   "source": [
    "tpr_fpr = pd.DataFrame({'tpr':tpr,\n",
    "                       'fpr':fpr,\n",
    "                       'thresholds':thresholds})\n",
    "tpr_fpr['diff']=tpr_fpr.tpr - tpr_fpr.fpr\n",
    "tpr_fpr.sort_values(by='diff',ascending=False)[0:5]"
   ]
  },
  {
   "cell_type": "code",
   "execution_count": 34,
   "metadata": {},
   "outputs": [],
   "source": [
    "y_pred_df = pd.DataFrame({'actual':y_test,\n",
    "                         'predicted_probability':logit_intermediate.predict(sm.add_constant(x_test[significant_vars]))})"
   ]
  },
  {
   "cell_type": "code",
   "execution_count": 35,
   "metadata": {},
   "outputs": [],
   "source": [
    "y_pred_df['predictions']= y_pred_df.predicted_probability.map((lambda x: 1 if x>=0.20 else 0))"
   ]
  },
  {
   "cell_type": "code",
   "execution_count": 36,
   "metadata": {},
   "outputs": [
    {
     "data": {
      "text/html": [
       "<div>\n",
       "<style scoped>\n",
       "    .dataframe tbody tr th:only-of-type {\n",
       "        vertical-align: middle;\n",
       "    }\n",
       "\n",
       "    .dataframe tbody tr th {\n",
       "        vertical-align: top;\n",
       "    }\n",
       "\n",
       "    .dataframe thead th {\n",
       "        text-align: right;\n",
       "    }\n",
       "</style>\n",
       "<table border=\"1\" class=\"dataframe\">\n",
       "  <thead>\n",
       "    <tr style=\"text-align: right;\">\n",
       "      <th></th>\n",
       "      <th>actual</th>\n",
       "      <th>predicted_probability</th>\n",
       "      <th>predictions</th>\n",
       "    </tr>\n",
       "  </thead>\n",
       "  <tbody>\n",
       "    <tr>\n",
       "      <th>1041</th>\n",
       "      <td>0</td>\n",
       "      <td>0.078110</td>\n",
       "      <td>0</td>\n",
       "    </tr>\n",
       "    <tr>\n",
       "      <th>184</th>\n",
       "      <td>0</td>\n",
       "      <td>0.044777</td>\n",
       "      <td>0</td>\n",
       "    </tr>\n",
       "    <tr>\n",
       "      <th>1222</th>\n",
       "      <td>1</td>\n",
       "      <td>0.220201</td>\n",
       "      <td>1</td>\n",
       "    </tr>\n",
       "    <tr>\n",
       "      <th>67</th>\n",
       "      <td>0</td>\n",
       "      <td>0.004584</td>\n",
       "      <td>0</td>\n",
       "    </tr>\n",
       "    <tr>\n",
       "      <th>220</th>\n",
       "      <td>0</td>\n",
       "      <td>0.044894</td>\n",
       "      <td>0</td>\n",
       "    </tr>\n",
       "    <tr>\n",
       "      <th>494</th>\n",
       "      <td>0</td>\n",
       "      <td>0.237278</td>\n",
       "      <td>1</td>\n",
       "    </tr>\n",
       "  </tbody>\n",
       "</table>\n",
       "</div>"
      ],
      "text/plain": [
       "      actual  predicted_probability  predictions\n",
       "1041       0               0.078110            0\n",
       "184        0               0.044777            0\n",
       "1222       1               0.220201            1\n",
       "67         0               0.004584            0\n",
       "220        0               0.044894            0\n",
       "494        0               0.237278            1"
      ]
     },
     "execution_count": 36,
     "metadata": {},
     "output_type": "execute_result"
    }
   ],
   "source": [
    "y_pred_df[:6]"
   ]
  },
  {
   "cell_type": "code",
   "execution_count": 37,
   "metadata": {},
   "outputs": [
    {
     "data": {
      "image/png": "[encoded data removed]",
      "text/plain": [
       "<Figure size 432x288 with 2 Axes>"
      ]
     },
     "metadata": {
      "needs_background": "light"
     },
     "output_type": "display_data"
    }
   ],
   "source": [
    "draw_cm(y_pred_df.actual,y_pred_df.predictions)"
   ]
  },
  {
   "cell_type": "code",
   "execution_count": 38,
   "metadata": {},
   "outputs": [
    {
     "name": "stdout",
     "output_type": "stream",
     "text": [
      "             precision    recall  f1-score   support\n",
      "\n",
      "          0       0.94      0.83      0.88       380\n",
      "          1       0.38      0.67      0.49        61\n",
      "\n",
      "avg / total       0.86      0.80      0.83       441\n",
      "\n"
     ]
    }
   ],
   "source": [
    "display_classification_report(y_pred_df.actual,y_pred_df.predictions)"
   ]
  },
  {
   "cell_type": "code",
   "execution_count": 39,
   "metadata": {},
   "outputs": [
    {
     "data": {
      "image/png": "[encoded data removed]",
      "text/plain": [
       "<Figure size 576x432 with 1 Axes>"
      ]
     },
     "metadata": {
      "needs_background": "light"
     },
     "output_type": "display_data"
    }
   ],
   "source": [
    "fpr,tpr,thresholds = draw_roc_auc_curve(y_pred_df.actual,y_pred_df.predicted_probability)"
   ]
  },
  {
   "cell_type": "markdown",
   "metadata": {},
   "source": [
    "# Using Decision Tree to classify predictions:"
   ]
  },
  {
   "cell_type": "markdown",
   "metadata": {},
   "source": [
    "## Continued to next module - Employee_Attrition_2\n"
   ]
  },
  {
   "cell_type": "code",
   "execution_count": null,
   "metadata": {},
   "outputs": [],
   "source": []
  }
 ],
 "metadata": {
  "kernelspec": {
   "display_name": "Python 3",
   "language": "python",
   "name": "python3"
  },
  "language_info": {
   "codemirror_mode": {
    "name": "ipython",
    "version": 3
   },
   "file_extension": ".py",
   "mimetype": "text/x-python",
   "name": "python",
   "nbconvert_exporter": "python",
   "pygments_lexer": "ipython3",
   "version": "3.7.0"
  }
 },
 "nbformat": 4,
 "nbformat_minor": 2
}
